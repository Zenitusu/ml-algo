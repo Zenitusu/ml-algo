{
  "nbformat": 4,
  "nbformat_minor": 0,
  "metadata": {
    "colab": {
      "provenance": [],
      "authorship_tag": "ABX9TyMknItIoRJPBBMg5TzBs+VP",
      "include_colab_link": true
    },
    "kernelspec": {
      "name": "python3",
      "display_name": "Python 3"
    },
    "language_info": {
      "name": "python"
    }
  },
  "cells": [
    {
      "cell_type": "markdown",
      "metadata": {
        "id": "view-in-github",
        "colab_type": "text"
      },
      "source": [
        "<a href=\"https://colab.research.google.com/github/Zenitusu/ml-algo/blob/main/Untitled0.ipynb\" target=\"_parent\"><img src=\"https://colab.research.google.com/assets/colab-badge.svg\" alt=\"Open In Colab\"/></a>"
      ]
    },
    {
      "cell_type": "code",
      "source": [
        "# data cleaning\n",
        "import pandas as pd\n",
        "\n",
        "# Read the CSV file\n",
        "data = pd.read_csv('survey.csv')\n",
        "\n",
        "# Perform data cleaning operations\n",
        "# For example, you can remove any rows with missing values\n",
        "data = data.dropna()\n",
        "\n",
        "# You can also remove any duplicate rows\n",
        "data = data.drop_duplicates()\n",
        "\n",
        "# Save the cleaned data to a new CSV file\n",
        "data.to_csv('cleaned_survey.csv', index=False)\n",
        "\n"
      ],
      "metadata": {
        "id": "08K5F156vi4X"
      },
      "execution_count": 1,
      "outputs": []
    },
    {
      "cell_type": "code",
      "source": [
        "# dropping the unneccessary columns in dataset\n",
        "import pandas as pd\n",
        "\n",
        "# Read the CSV file\n",
        "data = pd.read_csv('survey.csv')\n",
        "\n",
        "# List of unnecessary columns to drop\n",
        "columns_to_drop = ['Timestamp', 'comments']\n",
        "\n",
        "# Drop the unnecessary columns\n",
        "data = data.drop(columns_to_drop, axis=1)\n",
        "\n",
        "# Print the updated dataset\n",
        "print(data.head())\n",
        "\n",
        "\n"
      ],
      "metadata": {
        "colab": {
          "base_uri": "https://localhost:8080/"
        },
        "id": "oLlDx8v8vyjC",
        "outputId": "f7265e35-bd8f-42ac-d257-096a02425d54"
      },
      "execution_count": 4,
      "outputs": [
        {
          "output_type": "stream",
          "name": "stdout",
          "text": [
            "   Age  Gender         Country state self_employed family_history treatment  \\\n",
            "0   37  Female   United States    IL           NaN             No       Yes   \n",
            "1   44       M   United States    IN           NaN             No        No   \n",
            "2   32    Male          Canada   NaN           NaN             No        No   \n",
            "3   31    Male  United Kingdom   NaN           NaN            Yes       Yes   \n",
            "4   31    Male   United States    TX           NaN             No        No   \n",
            "\n",
            "  work_interfere    no_employees remote_work  ...   anonymity  \\\n",
            "0          Often            6-25          No  ...         Yes   \n",
            "1         Rarely  More than 1000          No  ...  Don't know   \n",
            "2         Rarely            6-25          No  ...  Don't know   \n",
            "3          Often          26-100          No  ...          No   \n",
            "4          Never         100-500         Yes  ...  Don't know   \n",
            "\n",
            "                leave mental_health_consequence phys_health_consequence  \\\n",
            "0       Somewhat easy                        No                      No   \n",
            "1          Don't know                     Maybe                      No   \n",
            "2  Somewhat difficult                        No                      No   \n",
            "3  Somewhat difficult                       Yes                     Yes   \n",
            "4          Don't know                        No                      No   \n",
            "\n",
            "      coworkers supervisor mental_health_interview phys_health_interview  \\\n",
            "0  Some of them        Yes                      No                 Maybe   \n",
            "1            No         No                      No                    No   \n",
            "2           Yes        Yes                     Yes                   Yes   \n",
            "3  Some of them         No                   Maybe                 Maybe   \n",
            "4  Some of them        Yes                     Yes                   Yes   \n",
            "\n",
            "  mental_vs_physical obs_consequence  \n",
            "0                Yes              No  \n",
            "1         Don't know              No  \n",
            "2                 No              No  \n",
            "3                 No             Yes  \n",
            "4         Don't know              No  \n",
            "\n",
            "[5 rows x 25 columns]\n"
          ]
        }
      ]
    },
    {
      "cell_type": "code",
      "source": [
        "# data preprocessing\n",
        "import pandas as pd\n",
        "from sklearn.preprocessing import LabelEncoder, StandardScaler\n",
        "\n",
        "# Read the CSV file\n",
        "data = pd.read_csv('survey.csv')\n",
        "\n",
        "# Drop unnecessary columns\n",
        "columns_to_drop = ['Timestamp', 'comments']\n",
        "data = data.drop(columns_to_drop, axis=1)\n",
        "\n",
        "# Drop rows with missing values\n",
        "data = data.dropna()\n",
        "\n",
        "# Encode categorical variables using LabelEncoder\n",
        "categorical_columns = ['Gender', 'Country', 'state', 'self_employed', 'family_history', 'treatment', 'work_interfere',\n",
        "                       'no_employees', 'remote_work', 'tech_company', 'benefits', 'care_options', 'wellness_program',\n",
        "                       'seek_help', 'anonymity', 'leave', 'mental_health_consequence', 'phys_health_consequence',\n",
        "                       'supervisor', 'mental_health_interview', 'phys_health_interview', 'mental_vs_physical',\n",
        "                       'obs_consequence']\n",
        "label_encoder = LabelEncoder()\n",
        "for column in categorical_columns:\n",
        "    data[column] = label_encoder.fit_transform(data[column])\n",
        "\n",
        "# Scale numerical variables using StandardScaler\n",
        "numerical_columns = ['Age']\n",
        "scaler = StandardScaler()\n",
        "data[numerical_columns] = scaler.fit_transform(data[numerical_columns])\n",
        "\n",
        "# Perform any other preprocessing steps as needed\n",
        "\n",
        "# Print the preprocessed dataset\n",
        "print(data.head())\n"
      ],
      "metadata": {
        "colab": {
          "base_uri": "https://localhost:8080/"
        },
        "id": "JJkd7SmNzEKC",
        "outputId": "41b48473-aa1f-4c62-fe39-62590adefefd"
      },
      "execution_count": 5,
      "outputs": [
        {
          "output_type": "stream",
          "name": "stdout",
          "text": [
            "         Age  Gender  Country  state  self_employed  family_history  \\\n",
            "18  0.858072      25        3     16              1               1   \n",
            "20 -0.315499      12        3     27              0               1   \n",
            "21 -0.177431      25        3     22              1               0   \n",
            "22  0.858072      12        3     15              0               0   \n",
            "23  0.512904      12        3      8              0               0   \n",
            "\n",
            "    treatment  work_interfere  no_employees  remote_work  ...  anonymity  \\\n",
            "18          0               3             0            1  ...          2   \n",
            "20          1               3             1            0  ...          1   \n",
            "21          0               0             0            1  ...          2   \n",
            "22          1               1             2            1  ...          0   \n",
            "23          1               0             5            0  ...          0   \n",
            "\n",
            "    leave  mental_health_consequence  phys_health_consequence     coworkers  \\\n",
            "18      4                          1                        1           Yes   \n",
            "20      1                          0                        1  Some of them   \n",
            "21      1                          1                        1  Some of them   \n",
            "22      0                          0                        1  Some of them   \n",
            "23      0                          0                        1            No   \n",
            "\n",
            "    supervisor  mental_health_interview  phys_health_interview  \\\n",
            "18           2                        1                      2   \n",
            "20           1                        1                      1   \n",
            "21           1                        1                      0   \n",
            "22           2                        1                      0   \n",
            "23           0                        1                      2   \n",
            "\n",
            "    mental_vs_physical obs_consequence  \n",
            "18                   2               1  \n",
            "20                   1               0  \n",
            "21                   2               0  \n",
            "22                   1               0  \n",
            "23                   0               0  \n",
            "\n",
            "[5 rows x 25 columns]\n"
          ]
        }
      ]
    },
    {
      "cell_type": "code",
      "source": [
        "# ml logistic regression model\n",
        "import pandas as pd\n",
        "from sklearn.model_selection import train_test_split\n",
        "from sklearn.linear_model import LogisticRegression\n",
        "from sklearn.metrics import accuracy_score, precision_score, recall_score, f1_score\n",
        "\n",
        "# Read the CSV file\n",
        "data = pd.read_csv('survey.csv')\n",
        "\n",
        "# Select the necessary attributes for logistic regression\n",
        "attributes = ['Age', 'Gender', 'Country', 'state', 'self_employed', 'family_history', 'treatment', 'work_interfere',\n",
        "              'no_employees', 'remote_work', 'tech_company', 'benefits', 'care_options', 'wellness_program',\n",
        "              'seek_help', 'anonymity', 'leave', 'mental_health_consequence', 'phys_health_consequence',\n",
        "              'supervisor', 'mental_health_interview', 'phys_health_interview', 'mental_vs_physical',\n",
        "              'obs_consequence']\n",
        "\n",
        "# Filter the data to include only the necessary attributes\n",
        "data = data[attributes]\n",
        "\n",
        "# Drop rows with missing values\n",
        "data = data.dropna()\n",
        "\n",
        "# Split the data into features (X) and target variable (y)\n",
        "X = data.drop('treatment', axis=1)\n",
        "y = data['treatment']\n",
        "\n",
        "# Encode categorical variables using one-hot encoding\n",
        "X = pd.get_dummies(X)\n",
        "\n",
        "# Split the data into training and testing sets\n",
        "X_train, X_test, y_train, y_test = train_test_split(X, y, test_size=0.2, random_state=42)\n",
        "\n",
        "# Create and train the logistic regression model\n",
        "model = LogisticRegression()\n",
        "model.fit(X_train, y_train)\n",
        "\n",
        "\n",
        "# Make predictions on the test set\n",
        "y_pred = model.predict(X_test)\n",
        "\n",
        "# Evaluate the model\n",
        "accuracy = accuracy_score(y_test, y_pred)\n",
        "precision = precision_score(y_test, y_pred, pos_label='Yes')\n",
        "recall = recall_score(y_test, y_pred, pos_label='Yes')\n",
        "f1 = f1_score(y_test, y_pred, pos_label='Yes')\n",
        "\n",
        "print(\"Accuracy:\", accuracy)\n",
        "print(\"Precision:\", precision)\n",
        "print(\"Recall:\", recall)\n",
        "print(\"F1 Score:\", f1)\n",
        "\n"
      ],
      "metadata": {
        "colab": {
          "base_uri": "https://localhost:8080/"
        },
        "id": "w0XuItQZ0t0q",
        "outputId": "87fceda3-3e96-4067-dc8e-7cf3bb08c2ac"
      },
      "execution_count": 8,
      "outputs": [
        {
          "output_type": "stream",
          "name": "stdout",
          "text": [
            "Accuracy: 0.7899159663865546\n",
            "Precision: 0.7752808988764045\n",
            "Recall: 0.9324324324324325\n",
            "F1 Score: 0.8466257668711658\n"
          ]
        },
        {
          "output_type": "stream",
          "name": "stderr",
          "text": [
            "/usr/local/lib/python3.10/dist-packages/sklearn/linear_model/_logistic.py:458: ConvergenceWarning: lbfgs failed to converge (status=1):\n",
            "STOP: TOTAL NO. of ITERATIONS REACHED LIMIT.\n",
            "\n",
            "Increase the number of iterations (max_iter) or scale the data as shown in:\n",
            "    https://scikit-learn.org/stable/modules/preprocessing.html\n",
            "Please also refer to the documentation for alternative solver options:\n",
            "    https://scikit-learn.org/stable/modules/linear_model.html#logistic-regression\n",
            "  n_iter_i = _check_optimize_result(\n"
          ]
        }
      ]
    },
    {
      "cell_type": "code",
      "source": [
        "# Random Forest ML ALGO\n",
        "import pandas as pd\n",
        "from sklearn.ensemble import RandomForestClassifier\n",
        "from sklearn.model_selection import train_test_split\n",
        "from sklearn.preprocessing import LabelEncoder\n",
        "\n",
        "# Read the CSV file\n",
        "data = pd.read_csv('survey.csv')\n",
        "\n",
        "# Drop unnecessary columns\n",
        "columns_to_drop = ['Timestamp', 'comments']\n",
        "data = data.drop(columns_to_drop, axis=1)\n",
        "\n",
        "# Convert categorical variables to numerical using LabelEncoder\n",
        "label_encoder = LabelEncoder()\n",
        "categorical_columns = ['Gender', 'Country', 'state', 'self_employed', 'family_history', 'treatment', 'work_interfere', 'no_employees', 'remote_work', 'tech_company', 'benefits', 'care_options', 'wellness_program', 'seek_help', 'anonymity', 'leave', 'mental_health_consequence', 'phys_health_consequence', 'coworkers', 'supervisor', 'mental_health_interview', 'phys_health_interview', 'mental_vs_physical', 'obs_consequence']\n",
        "for column in categorical_columns:\n",
        "    data[column] = label_encoder.fit_transform(data[column])\n",
        "\n",
        "# Convert 'Age' column to numeric\n",
        "data['Age'] = pd.to_numeric(data['Age'], errors='coerce')\n",
        "\n",
        "# Split the data into features (X) and target variable (y)\n",
        "X = data.drop('mental_health_consequence', axis=1)\n",
        "y = data['mental_health_consequence']\n",
        "\n",
        "# Split the data into training and testing sets\n",
        "X_train, X_test, y_train, y_test = train_test_split(X, y, test_size=0.2, random_state=42)\n",
        "\n",
        "# Create a Random Forest classifier\n",
        "rf_classifier = RandomForestClassifier(n_estimators=100, random_state=42)\n",
        "\n",
        "# Train the classifier\n",
        "rf_classifier.fit(X_train, y_train)\n",
        "\n",
        "# Make predictions on the test set\n",
        "y_pred = rf_classifier.predict(X_test)\n",
        "\n",
        "# Evaluate the model's accuracy\n",
        "accuracy = (y_pred == y_test).mean()\n",
        "print(\"Accuracy:\", accuracy)\n",
        "\n",
        "\n",
        "\n",
        "\n"
      ],
      "metadata": {
        "colab": {
          "base_uri": "https://localhost:8080/"
        },
        "id": "EFU6iGUW4YLU",
        "outputId": "14a1937d-b8b4-45a4-b64f-e41c59d61c57"
      },
      "execution_count": 20,
      "outputs": [
        {
          "output_type": "stream",
          "name": "stdout",
          "text": [
            "Accuracy: 0.6468253968253969\n"
          ]
        }
      ]
    }
  ]
}